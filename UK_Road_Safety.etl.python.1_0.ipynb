{
 "cells": [
  {
   "cell_type": "markdown",
   "metadata": {},
   "source": [
    "# UK Road Safety: Traffic Accidents and Vehicles - ETL\n",
    "## Detailed dataset of road accidents and involved vehicles in the UK (2005-2016)\n",
    "Source:\n",
    "<U>https://www.kaggle.com/tsiaras/uk-road-safety-accidents-and-vehicles#Accident_Information.csv</U>\n"
   ]
  },
  {
   "cell_type": "markdown",
   "metadata": {},
   "source": [
    "# Extract\n",
    "* Load file into a Spark session from Object Store\n",
    "* One large CSV file <br>\n",
    "* Allow for loading a sample for intial exploration"
   ]
  },
  {
   "cell_type": "code",
   "execution_count": 6,
   "metadata": {},
   "outputs": [
    {
     "data": {
      "text/plain": [
       "Row(Accident_Index='200501BS00001', 1st_Road_Class='A', 1st_Road_Number='3218', 2nd_Road_Class='NA', 2nd_Road_Number='0', Accident_Severity='Serious', Carriageway_Hazards='None', Date='2005-01-04', Day_of_Week='Tuesday', Did_Police_Officer_Attend_Scene_of_Accident='1', Junction_Control='Data missing or out of range', Junction_Detail='Not at junction or within 20 metres', Latitude='51.489096', Light_Conditions='Daylight', Local_Authority_(District)='Kensington and Chelsea', Local_Authority_(Highway)='Kensington and Chelsea', Location_Easting_OSGR='525680', Location_Northing_OSGR='178240', Longitude='-0.19117', LSOA_of_Accident_Location='E01002849', Number_of_Casualties='1', Number_of_Vehicles='1', Pedestrian_Crossing-Human_Control='0', Pedestrian_Crossing-Physical_Facilities='1', Police_Force='Metropolitan Police', Road_Surface_Conditions='Wet or damp', Road_Type='Single carriageway', Special_Conditions_at_Site='None', Speed_limit='30', Time='17:42', Urban_or_Rural_Area='Urban', Weather_Conditions='Raining no high winds', Year='2005', InScotland='No')"
      ]
     },
     "execution_count": 6,
     "metadata": {},
     "output_type": "execute_result"
    }
   ],
   "source": [
    "# The code was removed by Watson Studio for sharing."
   ]
  },
  {
   "cell_type": "markdown",
   "metadata": {},
   "source": [
    "# Transform\n",
    "* Rename some columns without special characters\n",
    "* Cast some columns to appropriate types (from string to int or double)\n",
    "\n"
   ]
  },
  {
   "cell_type": "code",
   "execution_count": 8,
   "metadata": {},
   "outputs": [
    {
     "name": "stdout",
     "output_type": "stream",
     "text": [
      "root\n",
      " |-- Accident_Index: string (nullable = true)\n",
      " |-- 1st_Road_Class: string (nullable = true)\n",
      " |-- 1st_Road_Number: string (nullable = true)\n",
      " |-- 2nd_Road_Class: string (nullable = true)\n",
      " |-- 2nd_Road_Number: string (nullable = true)\n",
      " |-- Accident_Severity: string (nullable = true)\n",
      " |-- Carriageway_Hazards: string (nullable = true)\n",
      " |-- Date: string (nullable = true)\n",
      " |-- Day_of_Week: string (nullable = true)\n",
      " |-- Did_Police_Officer_Attend_Scene_of_Accident: string (nullable = true)\n",
      " |-- Junction_Control: string (nullable = true)\n",
      " |-- Junction_Detail: string (nullable = true)\n",
      " |-- Latitude: double (nullable = true)\n",
      " |-- Light_Conditions: string (nullable = true)\n",
      " |-- Local_Authority_District: string (nullable = true)\n",
      " |-- Local_Authority_Highway: string (nullable = true)\n",
      " |-- Location_Easting_OSGR: integer (nullable = true)\n",
      " |-- Location_Northing_OSGR: integer (nullable = true)\n",
      " |-- Longitude: double (nullable = true)\n",
      " |-- LSOA_of_Accident_Location: string (nullable = true)\n",
      " |-- Number_of_Casualties: integer (nullable = true)\n",
      " |-- Number_of_Vehicles: integer (nullable = true)\n",
      " |-- Pedestrian_Crossing_Human_Control: string (nullable = true)\n",
      " |-- Pedestrian_Crossing_Physical_Facilities: string (nullable = true)\n",
      " |-- Police_Force: string (nullable = true)\n",
      " |-- Road_Surface_Conditions: string (nullable = true)\n",
      " |-- Road_Type: string (nullable = true)\n",
      " |-- Special_Conditions_at_Site: string (nullable = true)\n",
      " |-- Speed_limit: integer (nullable = true)\n",
      " |-- Time: string (nullable = true)\n",
      " |-- Urban_or_Rural_Area: string (nullable = true)\n",
      " |-- Weather_Conditions: string (nullable = true)\n",
      " |-- Year: integer (nullable = true)\n",
      " |-- InScotland: string (nullable = true)\n",
      "\n",
      "number of records: 1917274\n"
     ]
    }
   ],
   "source": [
    "#rename columns with special characters\n",
    "rdd_accidents = rdd_accidents.withColumnRenamed(\"Local_Authority_(District)\", \"Local_Authority_District\")\\\n",
    "    .withColumnRenamed(\"Local_Authority_(Highway)\", \"Local_Authority_Highway\")\\\n",
    "    .withColumnRenamed(\"Pedestrian_Crossing-Human_Control\", \"Pedestrian_Crossing_Human_Control\")\\\n",
    "    .withColumnRenamed(\"Pedestrian_Crossing-Physical_Facilities\", \"Pedestrian_Crossing_Physical_Facilities\")\n",
    "\n",
    "#type conversions\n",
    "rdd_accidents = rdd_accidents.withColumn(\"Latitude\", rdd_accidents[\"Latitude\"].cast(\"double\"))\n",
    "rdd_accidents = rdd_accidents.withColumn(\"Longitude\", rdd_accidents[\"Longitude\"].cast(\"double\"))\n",
    "rdd_accidents = rdd_accidents.withColumn(\"Location_Northing_OSGR\", rdd_accidents[\"Location_Northing_OSGR\"].cast(\"int\"))\n",
    "rdd_accidents = rdd_accidents.withColumn(\"Location_Easting_OSGR\", rdd_accidents[\"Location_Easting_OSGR\"].cast(\"int\"))\n",
    "rdd_accidents = rdd_accidents.withColumn(\"Number_of_Casualties\", rdd_accidents[\"Number_of_Casualties\"].cast(\"int\"))\n",
    "rdd_accidents = rdd_accidents.withColumn(\"Number_of_Vehicles\", rdd_accidents[\"Number_of_Vehicles\"].cast(\"int\"))\n",
    "rdd_accidents = rdd_accidents.withColumn(\"Speed_limit\", rdd_accidents[\"Speed_limit\"].cast(\"int\"))\n",
    "rdd_accidents = rdd_accidents.withColumn(\"Year\", rdd_accidents[\"Year\"].cast(\"int\"))\n",
    "rdd_accidents.take(1)\n",
    "\n",
    "rdd_accidents.createOrReplaceTempView(\"accidents\")\n",
    "rdd_accidents.printSchema()\n",
    "print(\"number of records: {:d}\".format(rdd_accidents.count()))\n",
    "\n"
   ]
  },
  {
   "cell_type": "markdown",
   "metadata": {},
   "source": [
    "# Load\n",
    "* Save Enterprise data as Parquet files distributed over the Spark cluster"
   ]
  },
  {
   "cell_type": "code",
   "execution_count": 9,
   "metadata": {},
   "outputs": [],
   "source": [
    "#Save as parquet files\n",
    "rdd_accidents.write.format(\"parquet\").mode(\"overwrite\").save(\"accidents.parquet\")"
   ]
  },
  {
   "cell_type": "code",
   "execution_count": null,
   "metadata": {},
   "outputs": [],
   "source": []
  }
 ],
 "metadata": {
  "kernelspec": {
   "display_name": "Python 3",
   "language": "python",
   "name": "python3"
  },
  "language_info": {
   "codemirror_mode": {
    "name": "ipython",
    "version": 3
   },
   "file_extension": ".py",
   "mimetype": "text/x-python",
   "name": "python",
   "nbconvert_exporter": "python",
   "pygments_lexer": "ipython3",
   "version": "3.7.3"
  }
 },
 "nbformat": 4,
 "nbformat_minor": 1
}
